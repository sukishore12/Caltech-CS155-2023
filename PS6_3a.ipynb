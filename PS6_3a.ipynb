{
  "nbformat": 4,
  "nbformat_minor": 0,
  "metadata": {
    "colab": {
      "provenance": [],
      "authorship_tag": "ABX9TyOq9cAoPW1QBkig+uRcU/T7",
      "include_colab_link": true
    },
    "kernelspec": {
      "name": "python3",
      "display_name": "Python 3"
    },
    "language_info": {
      "name": "python"
    }
  },
  "cells": [
    {
      "cell_type": "markdown",
      "metadata": {
        "id": "view-in-github",
        "colab_type": "text"
      },
      "source": [
        "<a href=\"https://colab.research.google.com/github/sukishore12/Caltech-CS155-2023/blob/main/PS6_3a.ipynb\" target=\"_parent\"><img src=\"https://colab.research.google.com/assets/colab-badge.svg\" alt=\"Open In Colab\"/></a>"
      ]
    },
    {
      "cell_type": "code",
      "execution_count": null,
      "metadata": {
        "colab": {
          "base_uri": "https://localhost:8080/"
        },
        "id": "f94iwqXQhbOc",
        "outputId": "4b87a9a3-5c07-4a0f-8891-da7f17618270"
      },
      "outputs": [
        {
          "metadata": {
            "tags": null
          },
          "name": "stdout",
          "output_type": "stream",
          "text": [
            "1, -1.0, 0.0026929378509521484\n",
            "2, -0.49999999999999994, 2.193450927734375e-05\n",
            "3, -0.0976310729378175, 1.8596649169921875e-05\n",
            "4, 0.022447553387909325, 6.556510925292969e-05\n",
            "5, 0.06104172584493757, 0.00011730194091796875\n",
            "6, 0.21035816082614947, 0.00030803680419921875\n",
            "7, 0.3094483225829057, 0.0007691383361816406\n",
            "8, 0.3693105857133682, 0.0020568370819091797\n",
            "9, 0.38886774156988807, 0.006379127502441406\n",
            "10, 0.37897847788725864, 0.01230001449584961\n",
            "11, 0.4326423649299213, 0.029653072357177734\n",
            "12, 0.47419939360919283, 0.0643000602722168\n",
            "13, 0.5029312664922283, 0.31531667709350586\n",
            "14, 0.5190224784556353, 0.28777146339416504\n",
            "15, 0.5392267335158978, 0.7724220752716064\n",
            "16, 0.5439534133630893, 1.4565556049346924\n",
            "17, 0.5240977925880047, 6.18427586555481\n",
            "18, 0.5275612743342892, 6.4328696727752686\n",
            "19, 0.5419132277110321, 10.961914539337158\n",
            "20, 0.5591664147757932, 23.819708347320557\n",
            "21, 0.5794152269564542, 51.56627154350281\n",
            "22, 0.5969415901539915, 112.43037438392639\n",
            "23, 0.61106656363946, 243.55085730552673\n",
            "24, 0.620062871151, 522.7927165031433\n",
            "25, 0.620261512878786, 1126.4326770305634\n",
            "26, 0.6209459097958107, 2414.4100935459137\n",
            "27, 0.6349531161453209, 5154.501278877258\n"
          ]
        }
      ],
      "source": [
        "import numpy\n",
        "import math\n",
        "import time\n",
        "\n",
        "power2_arr  = [1, 2, 4, 8, 16, \n",
        "               32, 64, 128, 256, 512, \n",
        "              1024, 2048, 4096, 8192, 16384, \n",
        "              32768, 65536, 131072, 262144, 524288,\n",
        "              1048576, 2097152, 4194304, 8388608, 16777216, \n",
        "              33554432, 67108864, 134217728, 268435456, 536870912] \n",
        "\t\n",
        "# //3^(-1) mod 2^k calculated with extended euclidean algorithm\n",
        "# division by 3 is not in R; this is multiplication by 3^−1 in Z/2^l.\n",
        "# equivalent to 3^-1 modulo 2^l, duplicated since using every other\n",
        "# Euclid's algorithm used to seperately calculate the value \n",
        "inv2L3 = [0, 1, 3, 3, 11, 11, 43, 43, 171, 171, \n",
        "          683, 683, 2731, 2731, 10923, 10923, 43691, 43691, 174763, 174763,\n",
        "          699051, 699051, 2796203, 2796203, 11184811, 11184811, 44739243, 44739243,\n",
        "          178956971, 178956971, 715827883, 715827883]\n",
        "\n",
        "def pow2_Mod(x, y):\n",
        "  # invertible elements are precisely the odd integers modulo 2^l\n",
        "  # x modulo y = (x & (y − 1))\n",
        "  # When y is a power of 2\n",
        "  # using bitwise operator since power 2\n",
        "  return (x)&((y)-1)\n",
        "\n",
        "def e_N_y(N, y):\n",
        "  # using cos to calculate the value i\n",
        "  return math.cos((y)*2.0*math.pi/(N))\n",
        "\n",
        "def pow_Mod(inv, power, mod):\n",
        "  # equivalent condition: there exist integers a, b \n",
        "  # such that aN + by = 1\n",
        "  val = 1 # b\n",
        "  # b = y^−1 mod N --> done using mod_pow2\n",
        "  for i in range(power):\n",
        "    val *= inv\n",
        "    val = pow2_Mod(val, mod)\n",
        "  return val\n",
        "\n",
        "def fL(L, y):\n",
        "  # little f function\n",
        "  # L: l --> y \n",
        "  e_N_y_summed = float(0) # initialize to 0\n",
        "  L_pow2 = power2_arr[L] # value we module by \n",
        "  for m in range(L): # sum from m = 0 to l - 1\n",
        "    m_pow2 = power2_arr[m] # use appr. value for m \n",
        "    # input to e_n_y function\n",
        "    input = (((y * m_pow2) % L_pow2) * pow_Mod(inv2L3[L], m, L_pow2))\t\t\n",
        "    e_N_y_summed += e_N_y(L_pow2, (input % L_pow2))\n",
        "  return 1.0/L * e_N_y_summed\n",
        "\n",
        "def F(L):\n",
        "  max_fL = -1.0\n",
        "  pow2 = power2_arr[L]\n",
        "  for y in range(1, pow2, 2): # any odd integer\n",
        "    fl = fL(L, y) # current \n",
        "    max_fL = max(fl, max_fL)\n",
        "  return max_fL\n",
        "\n",
        "if __name__ == '__main__':\n",
        "  L = 35\n",
        "  runtimes = []\n",
        "  for i in range(1, L + 1):\n",
        "    # get the start time\n",
        "    st = time.time()\n",
        "    F_i = F(i)\n",
        "    # get the end time\n",
        "    et = time.time()\n",
        "    # get the execution time\n",
        "    runtimes.append([F_i, et - st])\n",
        "    print(f'{i}, {runtimes[i - 1][0]}, {runtimes[i - 1][1]}')\n",
        "  \n",
        "  print(f'Runtime for l = 20: {runtimes[19][1]}')\n",
        "  print(f'Runtime for largest l = {len(runtimes)}: {runtimes[len(runtimes)][1]}')"
      ]
    },
    {
      "cell_type": "code",
      "source": [
        "  print(f'Runtime for l = 20: {23.819708347320557}')\n",
        "  print(f'Runtime for largest l = {27}: {5154.501278877258}')"
      ],
      "metadata": {
        "id": "uwlj4avm_pKc",
        "outputId": "d422e3ff-cbd1-4ed6-aca8-db7df7aa7eb4",
        "colab": {
          "base_uri": "https://localhost:8080/"
        }
      },
      "execution_count": 2,
      "outputs": [
        {
          "output_type": "stream",
          "name": "stdout",
          "text": [
            "Runtime for l = 20: 23.819708347320557\n",
            "Runtime for largest l = 27: 5154.501278877258\n"
          ]
        }
      ]
    }
  ]
}