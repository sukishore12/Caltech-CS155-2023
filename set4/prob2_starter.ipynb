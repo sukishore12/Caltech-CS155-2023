{
  "nbformat": 4,
  "nbformat_minor": 0,
  "metadata": {
    "colab": {
      "provenance": []
    },
    "kernelspec": {
      "name": "python3",
      "display_name": "Python 3"
    },
    "language_info": {
      "name": "python"
    }
  },
  "cells": [
    {
      "cell_type": "code",
      "execution_count": null,
      "metadata": {
        "id": "0fzZb8grE78U"
      },
      "outputs": [],
      "source": [
        "import torch\n",
        "import torch.nn as nn\n",
        "import torch.nn.functional as F\n",
        "from torch.utils.data import TensorDataset, DataLoader\n",
        "import numpy as np\n",
        "import pandas as pd\n",
        "import seaborn as sns"
      ]
    },
    {
      "cell_type": "markdown",
      "source": [
        "# Part A: Data Setup"
      ],
      "metadata": {
        "id": "VvPFMow_NNry"
      }
    },
    {
      "cell_type": "code",
      "source": [
        "# data preprocessing\n",
        "\n",
        "df = pd.read_csv(\"data/COVID-19_Case_Surveillance_Public_Use_Data_Subset.csv\")\n",
        "\n",
        "# TODO: preprocess df\n"
      ],
      "metadata": {
        "id": "7m_kQfspQJNf"
      },
      "execution_count": null,
      "outputs": []
    },
    {
      "cell_type": "code",
      "source": [
        "# TODO: make sure your data can be converted to torch tensors\n",
        "\n",
        "train_X = None\n",
        "train_y = None\n",
        "\n",
        "test_X = None\n",
        "test_y = None\n",
        "\n",
        "\n",
        "# make datasets and dataloaders\n",
        "\n",
        "train_dataset = TensorDataset(train_X, train_y)\n",
        "test_dataset = TensorDataset(test_X, test_y)\n",
        "\n",
        "train_loader = torch.utils.data.DataLoader(train_dataset, batch_size=32, shuffle=True)\n",
        "test_loader = torch.utils.data.DataLoader(test_dataset, batch_size=32, shuffle=True) \n"
      ],
      "metadata": {
        "id": "3Wn-AQp6FDpM"
      },
      "execution_count": null,
      "outputs": []
    },
    {
      "cell_type": "markdown",
      "source": [
        "# Part B: Linear Neural Network"
      ],
      "metadata": {
        "id": "Ccx89l3btfq4"
      }
    },
    {
      "cell_type": "markdown",
      "source": [
        "## Model Setup"
      ],
      "metadata": {
        "id": "aICcIvNtNGk2"
      }
    },
    {
      "cell_type": "code",
      "source": [
        "# TODO: Make your model, optmizer, and loss function here.\n",
        "\n",
        "model = None"
      ],
      "metadata": {
        "id": "qtMSBKxdFfjq"
      },
      "execution_count": null,
      "outputs": []
    },
    {
      "cell_type": "markdown",
      "source": [
        "## Training Loop"
      ],
      "metadata": {
        "id": "uKl5Tm2TNXxc"
      }
    },
    {
      "cell_type": "code",
      "source": [
        "# Some layers, such as Dropout, behave differently during training\n",
        "\n",
        "# model.train()\n",
        "# TODO: Write your training loop here."
      ],
      "metadata": {
        "id": "z-RVMsj0NaN7"
      },
      "execution_count": null,
      "outputs": []
    },
    {
      "cell_type": "markdown",
      "source": [
        "## Testing Loop"
      ],
      "metadata": {
        "id": "YZCNGh5mNbE0"
      }
    },
    {
      "cell_type": "code",
      "source": [
        "# Putting layers like Dropout into evaluation mode\n",
        "# model.eval()\n",
        "\n",
        "\n",
        "# Turning off automatic differentiation\n",
        "with torch.no_grad():\n",
        "    # TODO: Write test loop here.\n",
        "\n",
        "\n",
        "# TODO: Show results."
      ],
      "metadata": {
        "colab": {
          "base_uri": "https://localhost:8080/"
        },
        "id": "2SxnJ3eHNfgb",
        "outputId": "f72930fa-b984-4512-9402-fe0eb29c7ee7"
      },
      "execution_count": null,
      "outputs": [
        {
          "output_type": "stream",
          "name": "stdout",
          "text": [
            "Test set: Average loss: 0.0031, Accuracy: 53694/55222 (97.2330)\n"
          ]
        }
      ]
    },
    {
      "cell_type": "markdown",
      "source": [
        "## Weight Matrix Visualization"
      ],
      "metadata": {
        "id": "sf9UHC-kZ25f"
      }
    },
    {
      "cell_type": "code",
      "source": [
        "# weights = model.state_dict()['0.weight']\n",
        "\n",
        "# sns.heatmap(weights)"
      ],
      "metadata": {
        "id": "aBXDC10mRNto"
      },
      "execution_count": null,
      "outputs": []
    },
    {
      "cell_type": "markdown",
      "source": [
        "# Part C: 2-Layer Linear Model"
      ],
      "metadata": {
        "id": "91H6-NUVZ8Gd"
      }
    },
    {
      "cell_type": "code",
      "source": [
        "# TODO: Repeat for 2-layer model"
      ],
      "metadata": {
        "id": "SUd6CAB-WebM"
      },
      "execution_count": null,
      "outputs": []
    }
  ]
}