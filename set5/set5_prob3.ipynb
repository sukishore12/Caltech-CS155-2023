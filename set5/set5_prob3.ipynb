{
  "cells": [
    {
      "cell_type": "markdown",
      "metadata": {
        "id": "UwdvrXTFLOQD"
      },
      "source": [
        "[![Open In Colab](https://colab.research.google.com/assets/colab-badge.svg)](https://colab.research.google.com/github/emiletimothy/Caltech-CS155-2023/blob/main/set5/set5_prob3.ipynb)\n"
      ]
    },
    {
      "attachments": {},
      "cell_type": "markdown",
      "metadata": {
        "id": "ViXzmmMF4T9_"
      },
      "source": [
        "## Set 5\n",
        "## 3. Word2Vec **Principles**"
      ]
    },
    {
      "cell_type": "markdown",
      "metadata": {
        "id": "HXT_eNcB93ue"
      },
      "source": [
        "#### Preparation"
      ]
    },
    {
      "cell_type": "code",
      "execution_count": null,
      "metadata": {
        "id": "2wZbd6FeH7cY"
      },
      "outputs": [],
      "source": [
        "# download the helper function\n",
        "!wget -O P3CHelpers.py https://raw.githubusercontent.com/emiletimothy/Caltech-CS155-2023/main/set5/P3CHelpers.py"
      ]
    },
    {
      "cell_type": "code",
      "execution_count": null,
      "metadata": {
        "id": "LmmdYcVUH9D8"
      },
      "outputs": [],
      "source": [
        "# download the dataset\n",
        "!wget -O dr_seuss.txt https://raw.githubusercontent.com/emiletimothy/Caltech-CS155-2023/main/set5/data/dr_seuss.txt"
      ]
    },
    {
      "cell_type": "code",
      "execution_count": null,
      "metadata": {
        "id": "Groxh_Rz4QLB"
      },
      "outputs": [],
      "source": [
        "import numpy as np\n",
        "from P3CHelpers import *\n",
        "import torch\n",
        "import torch.nn as nn\n",
        "import torch.optim as optim"
      ]
    },
    {
      "cell_type": "markdown",
      "metadata": {
        "id": "h9aBEkZD5wb2"
      },
      "source": [
        "#### Problem D: \n",
        "Fill in the generate_traindata and find_most_similar_pairs functions."
      ]
    },
    {
      "cell_type": "code",
      "execution_count": null,
      "metadata": {
        "id": "UChXkrvs7OF0"
      },
      "outputs": [],
      "source": [
        "def get_word_repr(word_to_index, word):\n",
        "    \"\"\"\n",
        "    Returns one-hot-encoded feature representation of the specified word given\n",
        "    a dictionary mapping words to their one-hot-encoded index.\n",
        "\n",
        "    Arguments:\n",
        "        word_to_index: Dictionary mapping words to their corresponding index\n",
        "                       in a one-hot-encoded representation of our corpus.\n",
        "\n",
        "        word:          Word whose feature representation we wish to compute.\n",
        "\n",
        "    Returns:\n",
        "        feature_representation:     Feature representation of the passed-in word.\n",
        "    \"\"\"\n",
        "    unique_words = word_to_index.keys()\n",
        "    # Return a vector that's zero everywhere besides the index corresponding to <word>\n",
        "    feature_representation = np.zeros(len(unique_words))\n",
        "    feature_representation[word_to_index[word]] = 1\n",
        "    return feature_representation    \n",
        "\n",
        "def generate_traindata(word_list, word_to_index, window_size=4):\n",
        "    \"\"\"\n",
        "    Generates training data for Skipgram model.\n",
        "\n",
        "    Arguments:\n",
        "        word_list:     Sequential list of words (strings).\n",
        "        word_to_index: Dictionary mapping words to their corresponding index\n",
        "                       in a one-hot-encoded representation of our corpus.\n",
        "\n",
        "        window_size:   Size of Skipgram window. Defaults to 2 \n",
        "                       (use the default value when running your code).\n",
        "\n",
        "    Returns:\n",
        "        (trainX, trainY):     A pair of matrices (trainX, trainY) containing training \n",
        "                              points (one-hot-encoded vectors) and their corresponding output_word\n",
        "                              (also one-hot-encoded vectors)\n",
        "\n",
        "    \"\"\"\n",
        "    trainX = []\n",
        "    trainY = []\n",
        "\n",
        "    ##############################################################\n",
        "    # TODO: Implement this function, populating trainX and trainY\n",
        "    ##############################################################\n",
        "    \n",
        "    return np.array(trainX), np.array(trainY)"
      ]
    },
    {
      "cell_type": "code",
      "execution_count": null,
      "metadata": {
        "id": "OoaUtBqd7V-A"
      },
      "outputs": [],
      "source": [
        "def find_most_similar_pairs(filename, num_latent_factors):\n",
        "    \"\"\"\n",
        "    Find the most similar pairs from the word embeddings computed from\n",
        "    a body of text\n",
        "    \n",
        "    Arguments:\n",
        "        filename:           Text file to read and train embeddings from\n",
        "        num_latent_factors: The number of latent factors / the size of the embedding\n",
        "    \"\"\"\n",
        "    # Load in a list of words from the specified file; remove non-alphanumeric characters\n",
        "    # and make all chars lowercase.\n",
        "    sample_text = load_word_list(filename)\n",
        "\n",
        "    # Create word dictionary\n",
        "    word_to_index = generate_onehot_dict(sample_text)\n",
        "    print(\"Textfile contains %s unique words\"%len(word_to_index))\n",
        "    # Create training data\n",
        "    trainX, trainY = generate_traindata(sample_text, word_to_index)\n",
        "\n",
        "    ##############################################################\n",
        "    # TODO: 1) Create and train model in Pytorch.      \n",
        "    ##############################################################\n",
        "\n",
        "    # vocab_size = number of unique words in our text file. Will be useful \n",
        "    # when adding layers to your neural network\n",
        "    vocab_size = len(word_to_index)\n",
        "\n",
        "    ##############################################################\n",
        "    # TODO: 2) Extract weights for hidden layer\n",
        "    ##############################################################\n",
        "    \n",
        "    # set weights variable below\n",
        "    weights = None\n",
        "    \n",
        "    # Find and print most similar pairs\n",
        "    similar_pairs = most_similar_pairs(weights, word_to_index)\n",
        "    for pair in similar_pairs[:30]:\n",
        "        print(pair)"
      ]
    },
    {
      "cell_type": "markdown",
      "metadata": {
        "id": "xFBMhtCJ8LyA"
      },
      "source": [
        "### Problem E-H:\n",
        "Run your model on drseuss.txt and answer questions from E through H."
      ]
    },
    {
      "cell_type": "code",
      "execution_count": null,
      "metadata": {
        "id": "bR7ZicNJ6tyN"
      },
      "outputs": [],
      "source": [
        "find_most_similar_pairs('dr_seuss.txt', 10)"
      ]
    },
    {
      "cell_type": "code",
      "execution_count": null,
      "metadata": {
        "id": "1OypGn399owV"
      },
      "outputs": [],
      "source": []
    }
  ],
  "metadata": {
    "colab": {
      "collapsed_sections": [
        "h9aBEkZD5wb2"
      ],
      "name": "set5_prob3.ipynb",
      "provenance": []
    },
    "kernelspec": {
      "display_name": "Python 3",
      "name": "python3"
    },
    "language_info": {
      "name": "python"
    }
  },
  "nbformat": 4,
  "nbformat_minor": 0
}
