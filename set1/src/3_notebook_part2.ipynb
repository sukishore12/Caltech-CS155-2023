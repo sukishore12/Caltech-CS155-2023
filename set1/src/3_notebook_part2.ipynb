{
  "cells": [
    {
      "cell_type": "markdown",
      "metadata": {
        "colab_type": "text",
        "id": "view-in-github"
      },
      "source": [
        "<a href=\"https://colab.research.google.com/github/charlesincharge/CS155/blob/revise-set-1/2022/sets/set1/src/3_notebook_part2.ipynb\" target=\"_parent\"><img src=\"https://colab.research.google.com/assets/colab-badge.svg\" alt=\"Open In Colab\"/></a>"
      ]
    },
    {
      "cell_type": "markdown",
      "metadata": {
        "id": "9MiHp58KI7c_"
      },
      "source": [
        "# Problem 3, Parts G-I: Stochastic Gradient Descent with a Larger Dataset"
      ]
    },
    {
      "cell_type": "markdown",
      "metadata": {
        "id": "xBMavqB9I7dD"
      },
      "source": [
        "Use this notebook to write your code for problem 3 parts G-I by filling in the sections marked `# TODO` and running all cells."
      ]
    },
    {
      "cell_type": "code",
      "execution_count": 1,
      "metadata": {
        "collapsed": true,
        "id": "zD8uOTAbI7dE"
      },
      "outputs": [],
      "source": [
        "# Setup.\n",
        "\n",
        "import numpy as np\n",
        "import matplotlib.pyplot as plt\n",
        "\n",
        "%matplotlib inline"
      ]
    },
    {
      "cell_type": "markdown",
      "metadata": {
        "id": "KmeowyuSI7dF"
      },
      "source": [
        "## Problem 3G: Perform SGD with the new dataset"
      ]
    },
    {
      "cell_type": "markdown",
      "metadata": {
        "id": "b_Yr_uEXI7dG"
      },
      "source": [
        "For the functions below, you may re-use your code from parts 3D-F. Note that you can now modify your SGD function to return the final weight vector instead of the weights after every epoch."
      ]
    },
    {
      "cell_type": "code",
      "execution_count": 2,
      "metadata": {
        "collapsed": true,
        "id": "lOqNtnhXI7dG"
      },
      "outputs": [],
      "source": [
        "def loss(X, Y, w):\n",
        "    '''\n",
        "    Calculate the squared loss function.\n",
        "    \n",
        "    Inputs:\n",
        "        X: A (N, D) shaped numpy array containing the data points.\n",
        "        Y: A (N, ) shaped numpy array containing the (float) labels of the data points.\n",
        "        w: A (D, ) shaped numpy array containing the weight vector.\n",
        "    \n",
        "    Outputs:\n",
        "        The loss evaluated with respect to X, Y, and w.\n",
        "    '''\n",
        "    \n",
        "    #==============================================\n",
        "    # TODO: Implement the SGD loss function.\n",
        "    #==============================================\n",
        "    \n",
        "    return np.sum((Y - X.dot(w)) ** 2)\n",
        "\n",
        "def gradient(x, y, w):\n",
        "    '''\n",
        "    Calculate the gradient of the loss function with respect to\n",
        "    a single point (x, y), and using weight vector w.\n",
        "    \n",
        "    Inputs:\n",
        "        x: A (D, ) shaped numpy array containing a single data point.\n",
        "        y: The float label for the data point.\n",
        "        w: A (D, ) shaped numpy array containing the weight vector.\n",
        "        \n",
        "    Output:\n",
        "        The gradient of the loss with respect to x, y, and w. \n",
        "    '''\n",
        "    \n",
        "    #==============================================\n",
        "    # TODO: Implement the gradient of the loss function.\n",
        "    #==============================================    \n",
        "    \n",
        "    return -2 * (y - np.dot(w, x)) * x ## transpose x???\n",
        "\n",
        "def SGD(X, Y, w_start, eta, N_epochs):\n",
        "    '''\n",
        "    Perform SGD using dataset (X, Y), initial weight vector w_start,\n",
        "    learning rate eta, and N_epochs epochs.\n",
        "    \n",
        "    Inputs:\n",
        "        X: A (N, D) shaped numpy array containing the data points.\n",
        "        Y: A (N, ) shaped numpy array containing the (float) labels of the data points.\n",
        "        w_start:  A (D, ) shaped numpy array containing the weight vector initialization.\n",
        "        eta: The step size.\n",
        "        N_epochs: The number of epochs (iterations) to run SGD.\n",
        "        \n",
        "    Outputs:\n",
        "        w: A (D, ) shaped array containing the final weight vector.\n",
        "        losses: A (N_epochs, ) shaped array containing the losses from all iterations.\n",
        "    '''\n",
        "    \n",
        "    #==============================================\n",
        "    # TODO: Implement the SGD algorithm.\n",
        "    #==============================================    \n",
        "    \n",
        "    N = np.size(X, 0)\n",
        "    # D = len(w_start)\n",
        "\n",
        "    # initialize weight vector\n",
        "    w = w_start\n",
        "\n",
        "    # initialize final array of all weight vectors from each iter\n",
        "    # W = np.zeros(shape=(N_epochs, D))\n",
        "    losses = np.zeros(shape=(N_epochs, ))\n",
        "    for iter in range(N_epochs):\n",
        "        # iterate through each point\n",
        "        for i in np.random.permutation(N):\n",
        "            # w -= eta * gradient(X[i], Y[i], w)\n",
        "            # print(np.shape(X))\n",
        "            w -= eta * gradient(X[i, :], Y[i], w)\n",
        "\n",
        "        # W[iter] = w\n",
        "        losses[iter] = loss(X, Y, w)\n",
        "    \n",
        "    return w, losses"
      ]
    },
    {
      "cell_type": "markdown",
      "metadata": {
        "id": "URle0yiaI7dI"
      },
      "source": [
        "Next, we need to load the dataset. In doing so, the following function may be helpful:"
      ]
    },
    {
      "cell_type": "code",
      "execution_count": 3,
      "metadata": {
        "collapsed": true,
        "id": "HawZHA9-I7dJ"
      },
      "outputs": [],
      "source": [
        "def load_data(filename):\n",
        "    \"\"\"\n",
        "    Function loads data stored in the file filename and returns it as a numpy ndarray.\n",
        "    \n",
        "    Inputs:\n",
        "        filename: GeneratorExitiven as a string.\n",
        "    \n",
        "    Outputs:\n",
        "        Data contained in the file, returned as a numpy ndarray\n",
        "    \"\"\"\n",
        "    return np.loadtxt(filename, skiprows=1, delimiter=',')"
      ]
    },
    {
      "cell_type": "markdown",
      "metadata": {
        "id": "miOL66ooI7dJ"
      },
      "source": [
        "Now, load the dataset in `sgd_data.csv` and run SGD using the given parameters; print out the final weights."
      ]
    },
    {
      "cell_type": "code",
      "execution_count": 4,
      "metadata": {
        "collapsed": true,
        "id": "w8zujpzQI7dK"
      },
      "outputs": [
        {
          "name": "stdout",
          "output_type": "stream",
          "text": [
            "(1000, 5)\n",
            "(1000,)\n",
            "(1000, 5)\n",
            "1000\n",
            "[ -0.22717795  -5.94210176   3.94391361 -11.72383074   8.78568658]\n",
            "(5,)\n"
          ]
        }
      ],
      "source": [
        "#==============================================\n",
        "# (1) load the dataset\n",
        "# (2) run SGD using the given parameters\n",
        "# (3) print out the final weights.\n",
        "#==============================================\n",
        "\n",
        "# The following should help you get started:\n",
        "data = load_data('https://raw.githubusercontent.com/emiletimothy/Caltech-CS155-2023/main/set1/src/data/sgd_data.csv')\n",
        "# data is of form x1,x2,x3,x4,y\n",
        "# Y is last element\n",
        "# X is [0:4]\n",
        "print(np.shape(data))\n",
        "print(np.shape(data[:, -1]))\n",
        "print(np.shape(data[:]))\n",
        "# (1000, 4)\n",
        "X = data[:, :-1] # does not include x0 = 1 \n",
        "\n",
        "# want array that is X long by 1 wide with only 1s\n",
        "x0 = np.full((len(X), 1), 1) # (1000, 1)\n",
        "X = np.concatenate((x0, X), axis=1) # (1000, 5)\n",
        "Y = data[:, -1] # (1000,)\n",
        "print(np.size(Y))\n",
        "\n",
        "N_epochs = 800\n",
        "eta = np.exp(-15)\n",
        "w = [0.001, 0.001, 0.001, 0.001, 0.001] # includes b \n",
        "\n",
        "final_weights, losses = SGD(X, Y, w, eta, N_epochs)\n",
        "\n",
        "print(final_weights[:])\n",
        "print(np.shape(final_weights))\n"
      ]
    },
    {
      "cell_type": "markdown",
      "metadata": {
        "id": "hrQbch5ZI7dL"
      },
      "source": [
        "## Problem 3H: Convergence of SGD"
      ]
    },
    {
      "cell_type": "markdown",
      "metadata": {
        "id": "wifm5ZIMI7dL"
      },
      "source": [
        "This problem examines the convergence of SGD for different learning rates. Please implement your code in the cell below:"
      ]
    },
    {
      "cell_type": "code",
      "execution_count": 5,
      "metadata": {
        "collapsed": true,
        "id": "gV4SipwAI7dL"
      },
      "outputs": [
        {
          "data": {
            "image/png": "[encoded data removed]",
            "text/plain": [
              "<Figure size 432x288 with 1 Axes>"
            ]
          },
          "metadata": {
            "needs_background": "light"
          },
          "output_type": "display_data"
        }
      ],
      "source": [
        "#==============================================\n",
        "# TODO: create a plot showing the convergence\n",
        "# of SGD for the different learning rates.\n",
        "#==============================================\n",
        "\n",
        "eta_vals = [np.exp(-10), np.exp(-11), np.exp(-12), np.exp(-13), np.exp(-14), np.exp(-15)]\n",
        "\n",
        "plt.figure()\n",
        "\n",
        "for eta in eta_vals:\n",
        "    __, losses = SGD(X, Y, w, eta, N_epochs)\n",
        "    plt.plot(range(N_epochs), losses)\n",
        "\n",
        "plt.title(\"Training error vs. number of epochs\")\n",
        "plt.xlabel(\"Number of epochs\")\n",
        "plt.ylabel(\"Training erorr\")\n",
        "plt.legend(['eta = exp(-10)', 'eta = exp(-11)', 'eta = exp(-12)', 'eta = exp(-13)', 'eta = exp(-14)', 'eta = exp(-15)'], loc = 'best')\n",
        "plt.show()"
      ]
    },
    {
      "cell_type": "markdown",
      "metadata": {
        "id": "_vRECK4XI7dM"
      },
      "source": [
        "## Problem 3I"
      ]
    },
    {
      "cell_type": "markdown",
      "metadata": {
        "id": "wCovlxnHI7dM"
      },
      "source": [
        "Provide your code for computing the least-squares analytical solution below."
      ]
    },
    {
      "cell_type": "code",
      "execution_count": 6,
      "metadata": {
        "collapsed": true,
        "id": "PW5MWI-2I7dM"
      },
      "outputs": [
        {
          "name": "stdout",
          "output_type": "stream",
          "text": [
            "[ -0.31644251  -5.99157048   4.01509955 -11.93325972   8.99061096]\n"
          ]
        }
      ],
      "source": [
        "#==============================================\n",
        "# TODO: implement the least-squares\n",
        "# analytical solution.\n",
        "#==============================================\n",
        "term1 = np.linalg.inv(np.dot(np.transpose(X), X))\n",
        "term2 = np.dot(np.transpose(X), Y)\n",
        "w = np.dot(term1, term2)\n",
        "\n",
        "print(w)\n",
        "\n",
        "# term1 = np.linalg.inv(np.dot(X, np.transpose(X)))\n",
        "# term2 = np.dot(np.transpose(X), Y)\n",
        "# weight = np.dot(term1, term2)\n",
        "\n",
        "# print(weight)"
      ]
    }
  ],
  "metadata": {
    "anaconda-cloud": {},
    "colab": {
      "include_colab_link": true,
      "name": "3_notebook_part2.ipynb",
      "provenance": []
    },
    "kernelspec": {
      "display_name": "Python 3.9.12 ('base')",
      "language": "python",
      "name": "python3"
    },
    "language_info": {
      "codemirror_mode": {
        "name": "ipython",
        "version": 3
      },
      "file_extension": ".py",
      "mimetype": "text/x-python",
      "name": "python",
      "nbconvert_exporter": "python",
      "pygments_lexer": "ipython3",
      "version": "3.9.12"
    },
    "vscode": {
      "interpreter": {
        "hash": "2dbb8515ca420b22101a2288aabb3f693d845976ba24ed275d6ea36f12873f3c"
      }
    }
  },
  "nbformat": 4,
  "nbformat_minor": 0
}
